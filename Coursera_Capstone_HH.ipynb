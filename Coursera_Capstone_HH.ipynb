{
  "nbformat": 4,
  "nbformat_minor": 0,
  "metadata": {
    "colab": {
      "name": "Coursera_Capstone_HH.ipynb",
      "provenance": []
    },
    "kernelspec": {
      "name": "python3",
      "display_name": "Python 3"
    }
  },
  "cells": [
    {
      "cell_type": "markdown",
      "metadata": {
        "id": "Nm_LmyVoJv12",
        "colab_type": "text"
      },
      "source": [
        "\n",
        "Assignment Requirement:\n",
        "\n",
        "Write some markdown to explain that this notebook will be mainly used for the capstone project.\n",
        "\n",
        "Import the pandas library as pd.\n",
        "\n",
        "Import the Numpy library as np.\n",
        "\n",
        "Print the following the statement: Hello Capstone Project Course!\n",
        "\n",
        "# **This is a coursera capstone project**\n"
      ]
    },
    {
      "cell_type": "code",
      "metadata": {
        "id": "D9VD_T7jJt34",
        "colab_type": "code",
        "colab": {
          "base_uri": "https://localhost:8080/",
          "height": 34
        },
        "outputId": "acdbe849-a181-4afc-8b1f-94a4773a1b5f"
      },
      "source": [
        "import pandas as pd\n",
        "import numpy as np\n",
        "print(\"Hello Capstone Project Course!\")"
      ],
      "execution_count": 1,
      "outputs": [
        {
          "output_type": "stream",
          "text": [
            "Hello Capstone Project Course!\n"
          ],
          "name": "stdout"
        }
      ]
    },
    {
      "cell_type": "code",
      "metadata": {
        "id": "KFLEJ6EpKNqw",
        "colab_type": "code",
        "colab": {}
      },
      "source": [
        ""
      ],
      "execution_count": null,
      "outputs": []
    }
  ]
}